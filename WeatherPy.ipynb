{
 "cells": [
  {
   "cell_type": "markdown",
   "metadata": {},
   "source": [
    "# WeatherPy\n",
    "----\n",
    "\n",
    "#### Note\n",
    "* Instructions have been included for each segment. You do not have to follow them exactly, but they are included to help you think through the steps."
   ]
  },
  {
   "cell_type": "code",
   "execution_count": 4,
   "metadata": {
    "scrolled": true
   },
   "outputs": [],
   "source": [
    "# Dependencies and Setup\n",
    "import matplotlib.pyplot as plt\n",
    "import pandas as pd\n",
    "import numpy as np\n",
    "import requests\n",
    "import time\n",
    "from scipy.stats import linregress\n",
    "\n",
    "# Import API key\n",
    "from api_keys import weather_api_key\n",
    "from api_keys import api_key\n",
    "from api_keys import g_key\n",
    "\n",
    "\n",
    "# Output File (CSV)\n",
    "output_data_file = \"cities.csv\"\n",
    "\n",
    "# Range of latitudes and longitudes\n",
    "lat_range = (-90, 90)\n",
    "lng_range = (-180, 180)\n",
    "lng_range = (-180, 180)"
   ]
  },
  {
   "cell_type": "code",
   "execution_count": 5,
   "metadata": {},
   "outputs": [],
   "source": [
    "#citipy = f\"https://pypi.python.org/pypi/citipy={weather_api_key}&q=\"\n",
    "#base_url = citipy + \"lompoc\" + \"&APPID=\" + weather_api_key\n",
    "#base_url\n",
    "\n",
    "#citipy = \"../output_data/citipy.py\"\n",
    "import citipy"
   ]
  },
  {
   "cell_type": "code",
   "execution_count": null,
   "metadata": {},
   "outputs": [],
   "source": [
    "#url= f\"http://api.openweathermap.org/data/2.5/weather?units=Imperial&appid={weather_api_key}&q=\"\n",
    "#citipy = url + \"lompoc\" + \"&APPID=\" + weather_api_key\n",
    "#citipy\n",
    "#from citipy import citipy\n",
    "\n",
    "\n"
   ]
  },
  {
   "cell_type": "code",
   "execution_count": null,
   "metadata": {
    "scrolled": true
   },
   "outputs": [],
   "source": []
  },
  {
   "cell_type": "markdown",
   "metadata": {},
   "source": [
    "## Generate Cities List"
   ]
  },
  {
   "cell_type": "code",
   "execution_count": null,
   "metadata": {},
   "outputs": [],
   "source": [
    "# List for holding lat_lngs and cities\n",
    "lat_lngs = []\n",
    "cities = []\n",
    "\n",
    "# Create a set of random lat and lng combinations\n",
    "lats = np.random.uniform(lat_range[0], lat_range[1], size=1500)\n",
    "lngs = np.random.uniform(lng_range[0], lng_range[1], size=1500)\n",
    "lat_lngs = zip(lats, lngs)\n",
    "\n",
    "# Identify nearest city for each lat, lng combination\n",
    "for lat_lng in lat_lngs:\n",
    "    city = citipy.nearest_city(lat_lng[0], lat_lng[1]).city_name\n",
    "    \n",
    "    # If the city is unique, then add it to a our cities list\n",
    "    if city not in cities:\n",
    "        cities.append(city)\n",
    "\n",
    "# Print the city count to confirm sufficient count\n",
    "len(cities)"
   ]
  },
  {
   "cell_type": "markdown",
   "metadata": {},
   "source": [
    "### Perform API Calls\n",
    "* Perform a weather check on each city using a series of successive API calls.\n",
    "* Include a print log of each city as it'sbeing processed (with the city number and city name).\n"
   ]
  },
  {
   "cell_type": "code",
   "execution_count": null,
   "metadata": {
    "scrolled": true
   },
   "outputs": [],
   "source": [
    "#Empty Lists\n",
    "x=1\n",
    "count=1\n",
    "city_df=[]\n",
    "lat=[] \n",
    "long=[]\n",
    "Max_Temp=[]\n",
    "Humidity=[]\n",
    "Cloudiness=[]\n",
    "Wind_Speed=[]\n",
    "Country=[]\n",
    "Date=[]\n",
    "\n",
    "\n",
    "#Base line information\n",
    "url= f\"http://api.openweathermap.org/data/2.5/weather?units=Imperial&appid={weather_api_key}&q=\"\n",
    "city_responses= [ ]\n",
    "\n",
    "#Beggining Print\n",
    "print(\"Beginning Data Retrieval\")\n",
    "print(\"------------------------\")\n",
    "\n",
    "#for loop to make a api request for each city. \n",
    "for city in cities:\n",
    "    if x >= 51: \n",
    "        count+= 1\n",
    "        x=1\n",
    "    try:\n",
    "        city_data=requests.get(url + city).json()\n",
    "        city_df.append(city_data['name'])\n",
    "        lat.append(city_data['coord']['lat'])\n",
    "        long.append(city_data['coord']['lon'])\n",
    "        Max_Temp.append(city_data['main']['temp_max'])\n",
    "        Humidity.append(city_data['main'][\"humidity\"])\n",
    "        Cloudiness.append(city_data[\"clouds\"]['all'])\n",
    "        Wind_Speed.append(city_data[\"wind\"]['speed'])\n",
    "        Country.append(city_data['sys']['country'])\n",
    "        Date.append(city_data['dt'])\n",
    "        city_responses.append(city_data)\n",
    "        print(f\"Processing Record {x} of set {count}|{city}\")\n",
    "        x+=1\n",
    "    except: \n",
    "        print(\"City not found. Skipping... \")\n",
    "        \n",
    "#Final Print\n",
    "print(\"------------------------\")\n",
    "print(\"Data Retrieval Complete \")\n",
    "print(\"------------------------\")"
   ]
  },
  {
   "cell_type": "markdown",
   "metadata": {},
   "source": [
    "### Convert Raw Data to DataFrame\n",
    "* Export the city data into a .csv.\n",
    "* Display the DataFrame"
   ]
  },
  {
   "cell_type": "code",
   "execution_count": null,
   "metadata": {},
   "outputs": [],
   "source": [
    "#Make into a DataFrame\n",
    "\n",
    "main_df=pd.DataFrame({\"City\": city_df, \"Lat\": lat, \"Lng\": long, \n",
    "                      \"Max Temp\": Max_Temp, \"Humidity\": Humidity, \n",
    "                      \"Cloudiness\":Cloudiness, \"Wind Speed\": Wind_Speed,\n",
    "                     \"Country\": Country, \"Date\": Date})\n",
    "\n",
    "main_df.head(5)\n"
   ]
  },
  {
   "cell_type": "code",
   "execution_count": null,
   "metadata": {},
   "outputs": [],
   "source": [
    "\n",
    "#Count each column to ensure that they are equal\n",
    "\n",
    "main_df.count()"
   ]
  },
  {
   "cell_type": "markdown",
   "metadata": {},
   "source": [
    "## Inspect the data and remove the cities where the humidity > 100%.\n",
    "----\n",
    "Skip this step if there are no cities that have humidity > 100%. "
   ]
  },
  {
   "cell_type": "code",
   "execution_count": null,
   "metadata": {},
   "outputs": [],
   "source": [
    "#There is no data where humidity is over 100%\n",
    "main_df[\"Humidity\"].max()\n",
    "\n",
    "#This is how I would create the dataframe though\n",
    "\n",
    "main_df=main_df[main_df[\"Humidity\"]<= 100]\n",
    "\n",
    "main_df.describe()"
   ]
  },
  {
   "cell_type": "code",
   "execution_count": null,
   "metadata": {},
   "outputs": [],
   "source": [
    "#  Get the indices of cities that have humidity over 100%.\n",
    "# Make a new DataFrame equal to the city data to drop all humidity outliers by index.\n",
    "# Passing \"inplace=False\" will make a copy of the city_data DataFrame, which we call \"clean_city_data\".\n",
    "\n",
    "main_df.to_csv(output_data_file, index_label= \"city_id\")"
   ]
  },
  {
   "cell_type": "markdown",
   "metadata": {},
   "source": [
    "## Plotting the Data\n",
    "* Use proper labeling of the plots using plot titles (including date of analysis) and axes labels.\n",
    "* Save the plotted figures as .pngs."
   ]
  },
  {
   "cell_type": "markdown",
   "metadata": {},
   "source": [
    "## Latitude vs. Temperature Plot"
   ]
  },
  {
   "cell_type": "code",
   "execution_count": null,
   "metadata": {
    "scrolled": true
   },
   "outputs": [],
   "source": [
    "#New (x,y) Variables\n",
    "latitude=main_df[\"Lat\"]\n",
    "Max_T=main_df[\"Max Temp\"]\n",
    "\n",
    "#Making Scatter Plot\n",
    "plt.scatter(latitude, Max_T, marker=\"o\", facecolors=\"lightskyblue\", edgecolors=\"black\")\n",
    "\n",
    "#Formatting\n",
    "plt.grid()\n",
    "plt.title(\"City Latitude vs Max Temperature 07/20/2021\")\n",
    "plt.xlabel(\"City Latitude\")\n",
    "plt.ylabel(\"Max Temperature\")\n",
    "plt.savefig(\"Fig1.png\")\n",
    "plt.show()"
   ]
  },
  {
   "cell_type": "markdown",
   "metadata": {},
   "source": [
    "## Latitude vs. Humidity Plot"
   ]
  },
  {
   "cell_type": "code",
   "execution_count": null,
   "metadata": {},
   "outputs": [],
   "source": [
    "#New (y) variable\n",
    "Humidity_data=main_df[\"Humidity\"]\n",
    "\n",
    "#Making Scatter Plot\n",
    "plt.scatter(latitude, Humidity_data, marker=\"o\", facecolors=\"lightskyblue\", edgecolors=\"black\")\n",
    "\n",
    "#Formatting\n",
    "plt.grid()\n",
    "plt.title(\"City Latitude vs Humidity 07/20/2021\")\n",
    "plt.xlabel(\"City Latitude\")\n",
    "plt.ylabel(\"Humidity (%)\")\n",
    "\n",
    "#Saving the graph to a PNG\n",
    "plt.savefig(\"Fig2.png\")\n",
    "plt.show()"
   ]
  },
  {
   "cell_type": "markdown",
   "metadata": {},
   "source": [
    "## Latitude vs. Cloudiness Plot"
   ]
  },
  {
   "cell_type": "code",
   "execution_count": null,
   "metadata": {},
   "outputs": [],
   "source": [
    "#New (y) variable\n",
    "Cloud_data=main_df[\"Cloudiness\"]\n",
    "\n",
    "#Making Scatter Plot\n",
    "plt.scatter(latitude, Cloud_data, marker=\"o\", facecolors=\"lightskyblue\", edgecolors=\"black\")\n",
    "\n",
    "#Formatting\n",
    "plt.grid()\n",
    "plt.title(\"City Latitude vs Cloudiness 07/20/2021\")\n",
    "plt.xlabel(\"City Latitude\")\n",
    "plt.ylabel(\"Cloudiness (%)\")\n",
    "\n",
    "#Saving the graph to a PNG\n",
    "plt.savefig(\"Fig3.png\")\n",
    "plt.show()"
   ]
  },
  {
   "cell_type": "markdown",
   "metadata": {},
   "source": [
    "## Latitude vs. Wind Speed Plot"
   ]
  },
  {
   "cell_type": "code",
   "execution_count": null,
   "metadata": {},
   "outputs": [],
   "source": [
    "#New (y) variable\n",
    "Wind_data=main_df[\"Wind Speed\"]\n",
    "\n",
    "#Making Scatter Plot\n",
    "plt.scatter(latitude, Wind_data, marker=\"o\", facecolors=\"lightskyblue\", edgecolors=\"black\")\n",
    "\n",
    "#Formatting\n",
    "plt.grid()\n",
    "plt.title(\"City Latitude vs Wind Speed 07/20/2021\")\n",
    "plt.xlabel(\"City Latitude\")\n",
    "plt.ylabel(\"Wind Speed (mph)\")\n",
    "plt.savefig(\"Fig4.png\")\n",
    "plt.show()"
   ]
  },
  {
   "cell_type": "markdown",
   "metadata": {},
   "source": [
    "## Linear Regression"
   ]
  },
  {
   "cell_type": "code",
   "execution_count": null,
   "metadata": {},
   "outputs": [],
   "source": [
    "# Create Northern and Southern Hemisphere DataFrames\n",
    "Northern_df=main_df[main_df[\"Lat\"]>0]\n",
    "Southern_df=main_df[main_df[\"Lat\"]<0]"
   ]
  },
  {
   "cell_type": "code",
   "execution_count": null,
   "metadata": {},
   "outputs": [],
   "source": [
    "#Practice\n",
    "def plot_linear_regression(x,y,title,text_coordinates):\n",
    "    (slope, intercept,rvalue, pvalue, stderr)= linregress(x,y)\n",
    "    regress_values= x*slope + intercept\n",
    "    line_eq=f\"y={round(slope,2)}x + {round(intercept,2)}\"\n",
    "    plt.scatter(x, y, marker=\"o\", facecolors=\"lightskyblue\", edgecolors=\"black\")\n",
    "    plt.plot(x, regress_values, color='red')\n",
    "    plt.annotate(line_eq, text_coordinates, color='red', fontsize= 14)\n",
    "    plt.xlabel(\"Latitude\")\n",
    "    plt.ylabel(title)\n",
    "    plt.show()\n",
    "    print(f\"The r-squared is: {rvalue**2}\")"
   ]
  },
  {
   "cell_type": "markdown",
   "metadata": {},
   "source": [
    "####  Northern Hemisphere - Max Temp vs. Latitude Linear Regression"
   ]
  },
  {
   "cell_type": "code",
   "execution_count": null,
   "metadata": {},
   "outputs": [],
   "source": [
    "plot_linear_regression(Northern_df[\"Lat\"], Northern_df[\"Max Temp\"], \"Max Temp\",(10,20))"
   ]
  },
  {
   "cell_type": "markdown",
   "metadata": {},
   "source": [
    "####  Southern Hemisphere - Max Temp vs. Latitude Linear Regression"
   ]
  },
  {
   "cell_type": "code",
   "execution_count": null,
   "metadata": {},
   "outputs": [],
   "source": [
    "plot_linear_regression(Southern_df[\"Lat\"], Southern_df[\"Max Temp\"], \"Max Temp\",(-55,85))"
   ]
  },
  {
   "cell_type": "markdown",
   "metadata": {},
   "source": [
    "####  Northern Hemisphere - Humidity (%) vs. Latitude Linear Regression"
   ]
  },
  {
   "cell_type": "code",
   "execution_count": null,
   "metadata": {},
   "outputs": [],
   "source": [
    "plot_linear_regression(Northern_df[\"Lat\"], Northern_df[\"Humidity\"], \"Max Temp\",(50,12))"
   ]
  },
  {
   "cell_type": "markdown",
   "metadata": {},
   "source": [
    "####  Southern Hemisphere - Humidity (%) vs. Latitude Linear Regression"
   ]
  },
  {
   "cell_type": "code",
   "execution_count": null,
   "metadata": {},
   "outputs": [],
   "source": [
    "plot_linear_regression(Southern_df[\"Lat\"], Southern_df[\"Humidity\"], \"Max Temp\",(-55,20))"
   ]
  },
  {
   "cell_type": "markdown",
   "metadata": {},
   "source": [
    "####  Northern Hemisphere - Cloudiness (%) vs. Latitude Linear Regression"
   ]
  },
  {
   "cell_type": "code",
   "execution_count": null,
   "metadata": {},
   "outputs": [],
   "source": [
    "plot_linear_regression(Northern_df[\"Lat\"], Northern_df[\"Cloudiness\"], \"Max Temp\",(50,33))"
   ]
  },
  {
   "cell_type": "markdown",
   "metadata": {},
   "source": [
    "####  Southern Hemisphere - Cloudiness (%) vs. Latitude Linear Regression"
   ]
  },
  {
   "cell_type": "code",
   "execution_count": null,
   "metadata": {},
   "outputs": [],
   "source": [
    "plot_linear_regression(Southern_df[\"Lat\"], Southern_df[\"Cloudiness\"], \"Max Temp\",(-56,25))"
   ]
  },
  {
   "cell_type": "markdown",
   "metadata": {},
   "source": [
    "####  Northern Hemisphere - Wind Speed (mph) vs. Latitude Linear Regression"
   ]
  },
  {
   "cell_type": "code",
   "execution_count": null,
   "metadata": {},
   "outputs": [],
   "source": [
    "plot_linear_regression(Northern_df[\"Lat\"], Northern_df[\"Wind Speed\"], \"Max Temp\",(5,30))"
   ]
  },
  {
   "cell_type": "markdown",
   "metadata": {},
   "source": [
    "####  Southern Hemisphere - Wind Speed (mph) vs. Latitude Linear Regression"
   ]
  },
  {
   "cell_type": "code",
   "execution_count": null,
   "metadata": {},
   "outputs": [],
   "source": [
    "plot_linear_regression(Southern_df[\"Lat\"], Southern_df[\"Wind Speed\"], \"Max Temp\",(-56,13))"
   ]
  },
  {
   "cell_type": "code",
   "execution_count": null,
   "metadata": {},
   "outputs": [],
   "source": []
  },
  {
   "cell_type": "code",
   "execution_count": null,
   "metadata": {},
   "outputs": [],
   "source": []
  }
 ],
 "metadata": {
  "anaconda-cloud": {},
  "kernel_info": {
   "name": "python3"
  },
  "kernelspec": {
   "display_name": "Python 3",
   "language": "python",
   "name": "python3"
  },
  "language_info": {
   "codemirror_mode": {
    "name": "ipython",
    "version": 3
   },
   "file_extension": ".py",
   "mimetype": "text/x-python",
   "name": "python",
   "nbconvert_exporter": "python",
   "pygments_lexer": "ipython3",
   "version": "3.8.8"
  },
  "latex_envs": {
   "LaTeX_envs_menu_present": true,
   "autoclose": false,
   "autocomplete": true,
   "bibliofile": "biblio.bib",
   "cite_by": "apalike",
   "current_citInitial": 1,
   "eqLabelWithNumbers": true,
   "eqNumInitial": 1,
   "hotkeys": {
    "equation": "Ctrl-E",
    "itemize": "Ctrl-I"
   },
   "labels_anchors": false,
   "latex_user_defs": false,
   "report_style_numbering": false,
   "user_envs_cfg": false
  },
  "nteract": {
   "version": "0.12.3"
  }
 },
 "nbformat": 4,
 "nbformat_minor": 4
}
