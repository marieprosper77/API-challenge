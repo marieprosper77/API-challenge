{
 "cells": [
  {
   "cell_type": "code",
   "execution_count": 21,
   "metadata": {},
   "outputs": [],
   "source": [
    "%matplotlib notebook"
   ]
  },
  {
   "cell_type": "code",
   "execution_count": 18,
   "metadata": {},
   "outputs": [],
   "source": [
    "# Dependencies and Setup\n",
    "import matplotlib.pyplot as plt\n",
    "import pandas as pd\n",
    "import numpy as np\n",
    "import requests\n",
    "import gmaps\n",
    "import os\n",
    "import json\n",
    "import scipy.stats as sts\n",
    "\n",
    "\n",
    "# Import API key\n",
    "from api_keys import g_key\n",
    "from api_keys import api_key\n",
    "from api_keys import weather_api_key\n",
    "#gmaps.configure(api_keys= g_key)\n"
   ]
  },
  {
   "cell_type": "code",
   "execution_count": 19,
   "metadata": {},
   "outputs": [],
   "source": [
    "city_url = \"https://maps.googleapis.com/maps/api/place/nearbysearch/json\"\n",
    "#data =  city_url + \"lompoc\" + \"&APPID=\" + api_key\n",
    "#response = requests.get(city_url)\n",
    "#data = response.json()\n",
    "#pprint(data)\n",
    "\n",
    "#import openweathermapy as gmaps\n"
   ]
  },
  {
   "cell_type": "markdown",
   "metadata": {},
   "source": [
    "### Store Part I results into DataFrame\n",
    "* Load the csv exported in Part I to a DataFrame"
   ]
  },
  {
   "cell_type": "code",
   "execution_count": 20,
   "metadata": {},
   "outputs": [
    {
     "data": {
      "text/html": [
       "<div>\n",
       "<style scoped>\n",
       "    .dataframe tbody tr th:only-of-type {\n",
       "        vertical-align: middle;\n",
       "    }\n",
       "\n",
       "    .dataframe tbody tr th {\n",
       "        vertical-align: top;\n",
       "    }\n",
       "\n",
       "    .dataframe thead th {\n",
       "        text-align: right;\n",
       "    }\n",
       "</style>\n",
       "<table border=\"1\" class=\"dataframe\">\n",
       "  <thead>\n",
       "    <tr style=\"text-align: right;\">\n",
       "      <th></th>\n",
       "      <th>city_id</th>\n",
       "      <th>City</th>\n",
       "      <th>Lat</th>\n",
       "      <th>Lng</th>\n",
       "      <th>Max Temp</th>\n",
       "      <th>Humidity</th>\n",
       "      <th>Cloudiness</th>\n",
       "      <th>Wind Speed</th>\n",
       "      <th>Country</th>\n",
       "      <th>Date</th>\n",
       "    </tr>\n",
       "  </thead>\n",
       "  <tbody>\n",
       "    <tr>\n",
       "      <th>0</th>\n",
       "      <td>0</td>\n",
       "      <td>Hithadhoo</td>\n",
       "      <td>-0.6000</td>\n",
       "      <td>73.0833</td>\n",
       "      <td>81.34</td>\n",
       "      <td>71</td>\n",
       "      <td>92</td>\n",
       "      <td>7.78</td>\n",
       "      <td>MV</td>\n",
       "      <td>1627858049</td>\n",
       "    </tr>\n",
       "    <tr>\n",
       "      <th>1</th>\n",
       "      <td>1</td>\n",
       "      <td>Yellowknife</td>\n",
       "      <td>62.4560</td>\n",
       "      <td>-114.3525</td>\n",
       "      <td>87.33</td>\n",
       "      <td>28</td>\n",
       "      <td>20</td>\n",
       "      <td>3.44</td>\n",
       "      <td>CA</td>\n",
       "      <td>1627858059</td>\n",
       "    </tr>\n",
       "    <tr>\n",
       "      <th>2</th>\n",
       "      <td>2</td>\n",
       "      <td>Saint-Joseph</td>\n",
       "      <td>-21.3667</td>\n",
       "      <td>55.6167</td>\n",
       "      <td>64.78</td>\n",
       "      <td>75</td>\n",
       "      <td>37</td>\n",
       "      <td>8.30</td>\n",
       "      <td>RE</td>\n",
       "      <td>1627858292</td>\n",
       "    </tr>\n",
       "    <tr>\n",
       "      <th>3</th>\n",
       "      <td>3</td>\n",
       "      <td>Cidreira</td>\n",
       "      <td>-30.1811</td>\n",
       "      <td>-50.2056</td>\n",
       "      <td>56.86</td>\n",
       "      <td>93</td>\n",
       "      <td>90</td>\n",
       "      <td>8.03</td>\n",
       "      <td>BR</td>\n",
       "      <td>1627858086</td>\n",
       "    </tr>\n",
       "    <tr>\n",
       "      <th>4</th>\n",
       "      <td>4</td>\n",
       "      <td>Talara</td>\n",
       "      <td>-4.5772</td>\n",
       "      <td>-81.2719</td>\n",
       "      <td>65.91</td>\n",
       "      <td>84</td>\n",
       "      <td>1</td>\n",
       "      <td>21.12</td>\n",
       "      <td>PE</td>\n",
       "      <td>1627858137</td>\n",
       "    </tr>\n",
       "  </tbody>\n",
       "</table>\n",
       "</div>"
      ],
      "text/plain": [
       "   city_id          City      Lat       Lng  Max Temp  Humidity  Cloudiness  \\\n",
       "0        0     Hithadhoo  -0.6000   73.0833     81.34        71          92   \n",
       "1        1   Yellowknife  62.4560 -114.3525     87.33        28          20   \n",
       "2        2  Saint-Joseph -21.3667   55.6167     64.78        75          37   \n",
       "3        3      Cidreira -30.1811  -50.2056     56.86        93          90   \n",
       "4        4        Talara  -4.5772  -81.2719     65.91        84           1   \n",
       "\n",
       "   Wind Speed Country        Date  \n",
       "0        7.78      MV  1627858049  \n",
       "1        3.44      CA  1627858059  \n",
       "2        8.30      RE  1627858292  \n",
       "3        8.03      BR  1627858086  \n",
       "4       21.12      PE  1627858137  "
      ]
     },
     "execution_count": 20,
     "metadata": {},
     "output_type": "execute_result"
    }
   ],
   "source": [
    "#Loading in WeatherPY CSV\n",
    "\n",
    "input_file=\"cities.csv\"\n",
    "\n",
    "\n",
    "csv=pd.read_csv(input_file)\n",
    "\n",
    "csv.head()\n"
   ]
  },
  {
   "cell_type": "code",
   "execution_count": null,
   "metadata": {},
   "outputs": [],
   "source": []
  },
  {
   "cell_type": "markdown",
   "metadata": {},
   "source": [
    "### Humidity Heatmap\n",
    "* Configure gmaps.\n",
    "* Use the Lat and Lng as locations and Humidity as the weight.\n",
    "* Add Heatmap layer to map."
   ]
  },
  {
   "cell_type": "code",
   "execution_count": 14,
   "metadata": {
    "scrolled": true
   },
   "outputs": [
    {
     "data": {
      "application/vnd.jupyter.widget-view+json": {
       "model_id": "8209efdf29a04fd498d9a3cb9eb4c617",
       "version_major": 2,
       "version_minor": 0
      },
      "text/plain": [
       "Figure(layout=FigureLayout(height='420px'))"
      ]
     },
     "metadata": {},
     "output_type": "display_data"
    }
   ],
   "source": [
    "#Configure gmaps\n",
    "gmaps.configure(api_key=g_key)\n",
    "\n",
    "#Creating necesarry variables for Location and Humidity\n",
    "locations=csv[[\"Lat\", \"Lng\"]]\n",
    "Humidity= csv[\"Humidity\"]\n",
    "\n",
    "#Define the heatmap parameters\n",
    "fig=gmaps.figure()\n",
    "\n",
    "#Create heat layer\n",
    "heat_layer=gmaps.heatmap_layer(locations, weights=Humidity, dissipating= False, max_intensity=250,\n",
    "                              point_radius=3)\n",
    "\n",
    "#Add Layer\n",
    "fig.add_layer(heat_layer)\n",
    "\n",
    "#Display the map\n",
    "fig\n"
   ]
  },
  {
   "cell_type": "markdown",
   "metadata": {},
   "source": [
    "### Create new DataFrame fitting weather criteria\n",
    "* Narrow down the cities to fit weather conditions.\n",
    "* Drop any rows will null values."
   ]
  },
  {
   "cell_type": "code",
   "execution_count": null,
   "metadata": {},
   "outputs": [],
   "source": [
    "#Personal preference\n",
    "    #80> but not higher 90 \n",
    "    #50< Humidity\n",
    "    #Lat > 20\n",
    "\n",
    "temp_df=csv[(csv[\"Max Temp\"]>=80)&(csv[\"Max Temp\"]<90)&(csv[\"Humidity\"]<50)& (csv[\"Lat\"]>20)]\n",
    "temp_df"
   ]
  },
  {
   "cell_type": "markdown",
   "metadata": {},
   "source": [
    "### Hotel Map\n",
    "* Store into variable named `hotel_df`.\n",
    "* Add a \"Hotel Name\" column to the DataFrame.\n",
    "* Set parameters to search for hotels with 5000 meters.\n",
    "* Hit the Google Places API for each city's coordinates.\n",
    "* Store the first Hotel result into the DataFrame.\n",
    "* Plot markers on top of the heatmap."
   ]
  },
  {
   "cell_type": "code",
   "execution_count": null,
   "metadata": {},
   "outputs": [],
   "source": [
    "#create df of hotel name, along with city, count, geocod(lat,long)\n",
    "hotel_df=temp_df[[\"City\",\"Country\", \"Lat\", \"Lng\"]].copy()\n",
    "hotel_df[\"Hotel Names\"]= \"\"\n",
    "hotel_df"
   ]
  },
  {
   "cell_type": "code",
   "execution_count": null,
   "metadata": {},
   "outputs": [],
   "source": [
    "#Define variables\n",
    "radius=8000\n",
    "gtype=\"lodging\"\n",
    "\n",
    "#Making query calls for top Hotel\n",
    "\n",
    "base_url=\"https://maps.googleapis.com/maps/api/place/nearbysearch/json\"\n",
    "\n",
    "params={\"radius\": radius, \"types\": gtype,\"key\": g_key}"
   ]
  },
  {
   "cell_type": "code",
   "execution_count": null,
   "metadata": {},
   "outputs": [],
   "source": [
    "for index, row in hotel_df.iterrows():\n",
    "    lat = row[\"Lat\"]\n",
    "    lng = row[\"Lng\"]\n",
    "    city_name = row[\"City\"]\n",
    "    \n",
    "    params[\"location\"] = f\"{lat},{lng}\"\n",
    "    \n",
    "    print(f\"Retrieving Results for Index {index}: {city_name}.\")\n",
    "    response = requests.get(base_url, params=params).json()\n",
    "    results = response['results']\n",
    "    \n",
    "    #Save the hotel name to the dataframe\n",
    "    try:\n",
    "        print(f\"Closest hotel in {city_name} is {results[0]['name']}.\")\n",
    "        hotel_df.loc[index, \"Hotel Name\"] = results[0]['name']\n",
    "    except (KeyError, IndexError):\n",
    "        print(\"Could not find result\")\n",
    "        print(\"-------------------------\")\n",
    "        #delay the code by one second to avoid an error\n",
    "        time.sleep(1)\n",
    "    print(\"--------------------Ending Search\")"
   ]
  },
  {
   "cell_type": "code",
   "execution_count": null,
   "metadata": {},
   "outputs": [],
   "source": [
    "# NOTE: Do not change any of the code in this cell\n",
    "\n",
    "# Using the template add the hotel marks to the heatmap\n",
    "info_box_template = \"\"\"\n",
    "<dl>\n",
    "<dt>Name</dt><dd>{Hotel Name}</dd>\n",
    "<dt>City</dt><dd>{City}</dd>\n",
    "<dt>Country</dt><dd>{Country}</dd>\n",
    "</dl>\n",
    "\"\"\"\n",
    "# Store the DataFrame Row\n",
    "# NOTE: be sure to update with your DataFrame name\n",
    "hotel_info = [info_box_template.format(**row) for index, row in hotel_df.iterrows()]\n",
    "locations = hotel_df[[\"Lat\", \"Lng\"]]"
   ]
  },
  {
   "cell_type": "code",
   "execution_count": null,
   "metadata": {},
   "outputs": [],
   "source": [
    "hotel_df=hotel_df[hotel_df[\"Hotel Names\"]!= \"\"]"
   ]
  },
  {
   "cell_type": "code",
   "execution_count": null,
   "metadata": {},
   "outputs": [],
   "source": [
    "# NOTE: Do not change any of the code in this cell\n",
    "\n",
    "# Using the template add the hotel marks to the heatmap\n",
    "info_box_template = \"\"\"\n",
    "<dl>\n",
    "<dt>Name</dt><dd>{Hotel Names}</dd>\n",
    "<dt>City</dt><dd>{City}</dd>\n",
    "<dt>Country</dt><dd>{Country}</dd>\n",
    "</dl>\n",
    "\"\"\"\n",
    "# Store the DataFrame Row\n",
    "# NOTE: be sure to update with your DataFrame name\n",
    "hotel_info = [info_box_template.format(**row) for index, row in hotel_df.iterrows()]\n",
    "locations = hotel_df[[\"Lat\", \"Lng\"]]"
   ]
  },
  {
   "cell_type": "code",
   "execution_count": null,
   "metadata": {},
   "outputs": [],
   "source": [
    "# Plot markers on top of the heatmap\n",
    "# Add marker layer ontop of heat map\n",
    "markers = gmaps.marker_layer(locations, info_box_content = hotel_info)\n",
    "fig.add_layer(markers)\n",
    "# Display figure\n",
    "fig"
   ]
  },
  {
   "cell_type": "code",
   "execution_count": null,
   "metadata": {},
   "outputs": [],
   "source": []
  },
  {
   "cell_type": "code",
   "execution_count": null,
   "metadata": {},
   "outputs": [],
   "source": []
  }
 ],
 "metadata": {
  "kernelspec": {
   "display_name": "Python 3",
   "language": "python",
   "name": "python3"
  },
  "language_info": {
   "codemirror_mode": {
    "name": "ipython",
    "version": 3
   },
   "file_extension": ".py",
   "mimetype": "text/x-python",
   "name": "python",
   "nbconvert_exporter": "python",
   "pygments_lexer": "ipython3",
   "version": "3.8.8"
  },
  "latex_envs": {
   "LaTeX_envs_menu_present": true,
   "autoclose": false,
   "autocomplete": true,
   "bibliofile": "biblio.bib",
   "cite_by": "apalike",
   "current_citInitial": 1,
   "eqLabelWithNumbers": true,
   "eqNumInitial": 1,
   "hotkeys": {
    "equation": "Ctrl-E",
    "itemize": "Ctrl-I"
   },
   "labels_anchors": false,
   "latex_user_defs": false,
   "report_style_numbering": false,
   "user_envs_cfg": false
  }
 },
 "nbformat": 4,
 "nbformat_minor": 4
}
